{
 "cells": [
  {
   "cell_type": "markdown",
   "source": [],
   "metadata": {
    "collapsed": false,
    "pycharm": {
     "name": "#%% md\n"
    }
   }
  },
  {
   "cell_type": "markdown",
   "source": [
    "## Задание 1\n",
    "Реализуйте градиентный спуск с постоянный шагом (learning rate). Исследовать сходимость при различных значениях шага"
   ],
   "metadata": {
    "collapsed": false,
    "pycharm": {
     "name": "#%% md\n"
    }
   }
  },
  {
   "cell_type": "code",
   "execution_count": 145,
   "outputs": [],
   "source": [
    "import numpy as np\n",
    "import matplotlib.pyplot as plt\n",
    "\n",
    "plt.rcParams[\"figure.figsize\"] = (20, 10)"
   ],
   "metadata": {
    "collapsed": false,
    "pycharm": {
     "name": "#%%\n"
    }
   }
  },
  {
   "cell_type": "code",
   "execution_count": 146,
   "outputs": [],
   "source": [
    "def f(x):\n",
    "    return 5 * (x[0] - 9) ** 2 + (x[1] - 7) ** 2 + 3 * (x[2] - 4) ** 2\n",
    "\n",
    "\n",
    "def partial(i, x):\n",
    "    h = 1e-5\n",
    "    x[i] = x[i] + h\n",
    "    right = f(x)\n",
    "    x[i] = x[i] - 2 * h\n",
    "    left = f(x)\n",
    "    x[i] = x[i] + h\n",
    "    return (right - left) / (2 * h)\n",
    "\n",
    "\n",
    "def grad(x):\n",
    "    return [partial(i, x) for i in range(len(x))]"
   ],
   "metadata": {
    "collapsed": false,
    "pycharm": {
     "name": "#%%\n"
    }
   }
  },
  {
   "cell_type": "code",
   "execution_count": 147,
   "outputs": [],
   "source": [
    "def GB(lr):\n",
    "    epoch = 20\n",
    "    x = [-20, -20, -20]\n",
    "\n",
    "    points = np.zeros((epoch, 3))\n",
    "    points[0] = x\n",
    "    for i in range(1, epoch):\n",
    "        x = x - lr * np.array(grad(x))\n",
    "        points[i] = x\n",
    "    return points"
   ],
   "metadata": {
    "collapsed": false,
    "pycharm": {
     "name": "#%%\n"
    }
   }
  },
  {
   "cell_type": "code",
   "execution_count": 148,
   "outputs": [],
   "source": [
    "points1 = GB(0.16)"
   ],
   "metadata": {
    "collapsed": false,
    "pycharm": {
     "name": "#%%\n"
    }
   }
  },
  {
   "cell_type": "code",
   "execution_count": 149,
   "outputs": [],
   "source": [
    "points2 = GB(0.20)"
   ],
   "metadata": {
    "collapsed": false,
    "pycharm": {
     "name": "#%%\n"
    }
   }
  },
  {
   "cell_type": "code",
   "execution_count": 150,
   "outputs": [],
   "source": [
    "points3 = GB(0.1)"
   ],
   "metadata": {
    "collapsed": false,
    "pycharm": {
     "name": "#%%\n"
    }
   }
  },
  {
   "cell_type": "code",
   "execution_count": 151,
   "outputs": [],
   "source": [
    "points4 = GB(0.05)"
   ],
   "metadata": {
    "collapsed": false,
    "pycharm": {
     "name": "#%%\n"
    }
   }
  },
  {
   "cell_type": "code",
   "execution_count": 152,
   "outputs": [],
   "source": [
    "import sys\n",
    "\n",
    "np.set_printoptions(threshold=np.inf)"
   ],
   "metadata": {
    "collapsed": false,
    "pycharm": {
     "name": "#%%\n"
    }
   }
  },
  {
   "cell_type": "code",
   "execution_count": 153,
   "outputs": [
    {
     "data": {
      "text/plain": "array([[-20.        , -20.        , -20.        ],\n       [ 26.4       , -11.36      ,   3.04      ],\n       [ -1.44      ,  -5.4848    ,   3.9616    ],\n       [ 15.264     ,  -1.489664  ,   3.998464  ],\n       [  5.2416    ,   1.22702848,   3.99993856],\n       [ 11.25504   ,   3.07437937,   3.99999754],\n       [  7.646976  ,   4.33057797,   3.9999999 ],\n       [  9.8118144 ,   5.18479302,   4.        ],\n       [  8.51291136,   5.76565925,   4.        ],\n       [  9.29225318,   6.16064829,   4.        ],\n       [  8.82464809,   6.42924084,   4.        ],\n       [  9.10521115,   6.61188377,   4.        ],\n       [  8.93687331,   6.73608096,   4.        ],\n       [  9.03787601,   6.82053506,   4.        ],\n       [  8.97727439,   6.87796384,   4.        ],\n       [  9.01363536,   6.91701541,   4.        ],\n       [  8.99181878,   6.94357048,   4.        ],\n       [  9.00490873,   6.96162793,   4.        ],\n       [  8.99705476,   6.97390699,   4.        ],\n       [  9.00176714,   6.98225675,   4.        ]])"
     },
     "execution_count": 153,
     "metadata": {},
     "output_type": "execute_result"
    }
   ],
   "source": [
    "points1"
   ],
   "metadata": {
    "collapsed": false,
    "pycharm": {
     "name": "#%%\n"
    }
   }
  },
  {
   "cell_type": "code",
   "execution_count": 154,
   "outputs": [
    {
     "data": {
      "text/plain": "array([[-20.        , -20.        , -20.        ],\n       [ 38.        ,  -9.2       ,   8.8       ],\n       [-19.99999999,  -2.72      ,   3.04000001],\n       [ 37.99999999,   1.168     ,   4.19199999],\n       [-19.99999998,   3.5008    ,   3.96160001],\n       [ 37.99999998,   4.90048   ,   4.00768   ],\n       [-19.99999998,   5.740288  ,   3.99846399],\n       [ 37.99999998,   6.2441728 ,   4.0003072 ],\n       [-19.99999998,   6.54650368,   3.99993857],\n       [ 37.99999998,   6.7279022 ,   4.00001228],\n       [-19.99999997,   6.83674133,   3.99999754],\n       [ 37.99999997,   6.9020448 ,   4.00000049],\n       [-19.99999996,   6.94122688,   3.9999999 ],\n       [ 37.99999995,   6.96473613,   4.00000002],\n       [-19.99999995,   6.97884168,   3.99999999],\n       [ 37.99999994,   6.987305  ,   4.        ],\n       [-19.99999995,   6.992383  ,   4.        ],\n       [ 37.99999994,   6.9954298 ,   4.        ],\n       [-19.99999993,   6.99725788,   4.        ],\n       [ 37.99999993,   6.99835472,   4.        ]])"
     },
     "execution_count": 154,
     "metadata": {},
     "output_type": "execute_result"
    }
   ],
   "source": [
    "points2"
   ],
   "metadata": {
    "collapsed": false,
    "pycharm": {
     "name": "#%%\n"
    }
   }
  },
  {
   "cell_type": "code",
   "execution_count": 155,
   "outputs": [
    {
     "data": {
      "text/plain": "array([[-20.        , -20.        , -20.        ],\n       [  9.        , -14.6       ,  -5.6       ],\n       [  9.        , -10.28      ,   0.16      ],\n       [  9.        ,  -6.824     ,   2.464     ],\n       [  9.        ,  -4.0592    ,   3.3856    ],\n       [  9.        ,  -1.84736   ,   3.75424   ],\n       [  9.        ,  -0.077888  ,   3.901696  ],\n       [  9.        ,   1.3376896 ,   3.9606784 ],\n       [  9.        ,   2.47015168,   3.98427136],\n       [  9.        ,   3.37612134,   3.99370854],\n       [  9.        ,   4.10089708,   3.99748342],\n       [  9.        ,   4.68071766,   3.99899337],\n       [  9.        ,   5.14457413,   3.99959735],\n       [  9.        ,   5.5156593 ,   3.99983894],\n       [  9.        ,   5.81252744,   3.99993558],\n       [  9.        ,   6.05002195,   3.99997423],\n       [  9.        ,   6.24001756,   3.99998969],\n       [  9.        ,   6.39201405,   3.99999588],\n       [  9.        ,   6.51361124,   3.99999835],\n       [  9.        ,   6.61088899,   3.99999934]])"
     },
     "execution_count": 155,
     "metadata": {},
     "output_type": "execute_result"
    }
   ],
   "source": [
    "points3"
   ],
   "metadata": {
    "collapsed": false,
    "pycharm": {
     "name": "#%%\n"
    }
   }
  },
  {
   "cell_type": "code",
   "execution_count": 156,
   "outputs": [
    {
     "data": {
      "text/plain": "array([[-20.        , -20.        , -20.        ],\n       [ -5.5       , -17.3       , -12.8       ],\n       [  1.75      , -14.87      ,  -7.76      ],\n       [  5.375     , -12.683     ,  -4.232     ],\n       [  7.1875    , -10.7147    ,  -1.7624    ],\n       [  8.09375   ,  -8.94323   ,  -0.03368   ],\n       [  8.546875  ,  -7.348907  ,   1.176424  ],\n       [  8.7734375 ,  -5.9140163 ,   2.0234968 ],\n       [  8.88671875,  -4.62261467,   2.61644776],\n       [  8.94335937,  -3.4603532 ,   3.03151343],\n       [  8.97167969,  -2.41431788,   3.3220594 ],\n       [  8.98583984,  -1.47288609,   3.52544158],\n       [  8.99291992,  -0.62559749,   3.66780911],\n       [  8.99645996,   0.13696226,   3.76746638],\n       [  8.99822998,   0.82326604,   3.83722646],\n       [  8.99911499,   1.44093943,   3.88605852],\n       [  8.9995575 ,   1.99684549,   3.92024097],\n       [  8.99977875,   2.49716094,   3.94416868],\n       [  8.99988937,   2.94744485,   3.96091807],\n       [  8.99994469,   3.35270036,   3.97264265]])"
     },
     "execution_count": 156,
     "metadata": {},
     "output_type": "execute_result"
    }
   ],
   "source": [
    "points4"
   ],
   "metadata": {
    "collapsed": false,
    "pycharm": {
     "name": "#%%\n"
    }
   }
  }
 ],
 "metadata": {
  "kernelspec": {
   "display_name": "Python 3",
   "language": "python",
   "name": "python3"
  },
  "language_info": {
   "codemirror_mode": {
    "name": "ipython",
    "version": 2
   },
   "file_extension": ".py",
   "mimetype": "text/x-python",
   "name": "python",
   "nbconvert_exporter": "python",
   "pygments_lexer": "ipython2",
   "version": "2.7.6"
  }
 },
 "nbformat": 4,
 "nbformat_minor": 0
}