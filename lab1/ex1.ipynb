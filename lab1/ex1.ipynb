{
 "cells": [
  {
   "cell_type": "markdown",
   "source": [],
   "metadata": {
    "collapsed": false,
    "pycharm": {
     "name": "#%% md\n"
    }
   }
  },
  {
   "cell_type": "markdown",
   "source": [
    "## Задание 1\n",
    "Реализуйте градиентный спуск с постоянный шагом (learning rate). Исследовать сходимость при различных значениях шага"
   ],
   "metadata": {
    "collapsed": false,
    "pycharm": {
     "name": "#%% md\n"
    }
   }
  },
  {
   "cell_type": "markdown",
   "source": [
    "Функция: $sin(x) + cos(x) + z^2$"
   ],
   "metadata": {
    "collapsed": false,
    "pycharm": {
     "name": "#%% md\n"
    }
   }
  },
  {
   "cell_type": "code",
   "execution_count": 43,
   "outputs": [],
   "source": [
    "import numpy as np\n",
    "import matplotlib.pyplot as plt\n",
    "\n",
    "plt.rcParams[\"figure.figsize\"] = (20, 10)"
   ],
   "metadata": {
    "collapsed": false,
    "pycharm": {
     "name": "#%%\n"
    }
   }
  },
  {
   "cell_type": "code",
   "execution_count": 44,
   "outputs": [],
   "source": [
    "def f(x):\n",
    "    return 3 * (x[0] - 9) ** 2 + 3 * (x[1] - 8) ** 2 + 3 * (x[2] - 7) ** 2\n",
    "\n",
    "def partial(i, x):\n",
    "    h = 1e-5\n",
    "    x[i] = x[i] + h\n",
    "    right = f(x)\n",
    "    x[i] = x[i] - 2 * h\n",
    "    left = f(x)\n",
    "    x[i] = x[i] + h\n",
    "    return (right - left) / (2 * h)\n",
    "\n",
    "\n",
    "def grad(x):\n",
    "    return [partial(i, x) for i in range(len(x))]"
   ],
   "metadata": {
    "collapsed": false,
    "pycharm": {
     "name": "#%%\n"
    }
   }
  },
  {
   "cell_type": "code",
   "execution_count": 45,
   "outputs": [],
   "source": [
    "def GB(lr):\n",
    "    epoch = 50\n",
    "    x = [-20, -20, -20]\n",
    "\n",
    "    points = np.zeros((epoch, 3))\n",
    "    points[0] = x\n",
    "    for i in range(1, epoch):\n",
    "        x = x - lr * np.array(grad(x))\n",
    "        points[i] = x\n",
    "    return points"
   ],
   "metadata": {
    "collapsed": false,
    "pycharm": {
     "name": "#%%\n"
    }
   }
  },
  {
   "cell_type": "code",
   "execution_count": 46,
   "outputs": [],
   "source": [
    "points1 = GB(0.16)"
   ],
   "metadata": {
    "collapsed": false,
    "pycharm": {
     "name": "#%%\n"
    }
   }
  },
  {
   "cell_type": "code",
   "execution_count": 47,
   "outputs": [],
   "source": [
    "points2 = GB(0.20)"
   ],
   "metadata": {
    "collapsed": false,
    "pycharm": {
     "name": "#%%\n"
    }
   }
  },
  {
   "cell_type": "code",
   "execution_count": 48,
   "outputs": [],
   "source": [
    "points3 = GB(0.1)"
   ],
   "metadata": {
    "collapsed": false,
    "pycharm": {
     "name": "#%%\n"
    }
   }
  },
  {
   "cell_type": "code",
   "execution_count": 49,
   "outputs": [],
   "source": [
    "import sys\n",
    "\n",
    "np.set_printoptions(threshold=np.inf)"
   ],
   "metadata": {
    "collapsed": false,
    "pycharm": {
     "name": "#%%\n"
    }
   }
  },
  {
   "cell_type": "code",
   "execution_count": 50,
   "outputs": [
    {
     "data": {
      "text/plain": "array([[-20.        , -20.        , -20.        ],\n       [  7.84      ,   6.87999999,  20.32      ],\n       [  8.9536    ,   7.9552    ,  21.9328    ],\n       [  8.998144  ,   7.998208  ,  21.997312  ],\n       [  8.99992576,   7.99992832,  21.99989248],\n       [  8.99999703,   7.99999713,  21.9999957 ],\n       [  8.99999988,   7.99999989,  21.99999983],\n       [  9.        ,   8.        ,  21.99999999],\n       [  9.        ,   8.        ,  22.        ],\n       [  9.        ,   8.        ,  22.        ],\n       [  9.        ,   8.        ,  22.        ],\n       [  9.        ,   8.        ,  22.        ],\n       [  9.        ,   8.        ,  22.        ],\n       [  9.        ,   8.        ,  22.        ],\n       [  9.        ,   8.        ,  22.        ],\n       [  9.        ,   8.        ,  22.        ],\n       [  9.        ,   8.        ,  22.        ],\n       [  9.        ,   8.        ,  22.        ],\n       [  9.        ,   8.        ,  22.        ],\n       [  9.        ,   8.        ,  22.        ],\n       [  9.        ,   8.        ,  22.        ],\n       [  9.        ,   8.        ,  22.        ],\n       [  9.        ,   8.        ,  22.        ],\n       [  9.        ,   8.        ,  22.        ],\n       [  9.        ,   8.        ,  22.        ],\n       [  9.        ,   8.        ,  22.        ],\n       [  9.        ,   8.        ,  22.        ],\n       [  9.        ,   8.        ,  22.        ],\n       [  9.        ,   8.        ,  22.        ],\n       [  9.        ,   8.        ,  22.        ],\n       [  9.        ,   8.        ,  22.        ],\n       [  9.        ,   8.        ,  22.        ],\n       [  9.        ,   8.        ,  22.        ],\n       [  9.        ,   8.        ,  22.        ],\n       [  9.        ,   8.        ,  22.        ],\n       [  9.        ,   8.        ,  22.        ],\n       [  9.        ,   8.        ,  22.        ],\n       [  9.        ,   8.        ,  22.        ],\n       [  9.        ,   8.        ,  22.        ],\n       [  9.        ,   8.        ,  22.        ],\n       [  9.        ,   8.        ,  22.        ],\n       [  9.        ,   8.        ,  22.        ],\n       [  9.        ,   8.        ,  22.        ],\n       [  9.        ,   8.        ,  22.        ],\n       [  9.        ,   8.        ,  22.        ],\n       [  9.        ,   8.        ,  22.        ],\n       [  9.        ,   8.        ,  22.        ],\n       [  9.        ,   8.        ,  22.        ],\n       [  9.        ,   8.        ,  22.        ],\n       [  9.        ,   8.        ,  22.        ]])"
     },
     "execution_count": 50,
     "metadata": {},
     "output_type": "execute_result"
    }
   ],
   "source": [
    "points1"
   ],
   "metadata": {
    "collapsed": false,
    "pycharm": {
     "name": "#%%\n"
    }
   }
  },
  {
   "cell_type": "code",
   "execution_count": 51,
   "outputs": [
    {
     "data": {
      "text/plain": "array([[-20.        , -20.        , -20.        ],\n       [ 14.79999999,  13.59999999,  30.4       ],\n       [  7.84      ,   6.88      ,  20.32      ],\n       [  9.232     ,   8.224     ,  22.336     ],\n       [  8.9536    ,   7.9552    ,  21.9328    ],\n       [  9.00928   ,   8.00896   ,  22.01344   ],\n       [  8.998144  ,   7.998208  ,  21.997312  ],\n       [  9.0003712 ,   8.0003584 ,  22.0005376 ],\n       [  8.99992576,   7.99992832,  21.99989248],\n       [  9.00001485,   8.00001434,  22.0000215 ],\n       [  8.99999703,   7.99999713,  21.9999957 ],\n       [  9.00000059,   8.00000057,  22.00000086],\n       [  8.99999988,   7.99999989,  21.99999983],\n       [  9.00000002,   8.00000002,  22.00000003],\n       [  9.        ,   8.        ,  21.99999999],\n       [  9.        ,   8.        ,  22.        ],\n       [  9.        ,   8.        ,  22.        ],\n       [  9.        ,   8.        ,  22.        ],\n       [  9.        ,   8.        ,  22.        ],\n       [  9.        ,   8.        ,  22.        ],\n       [  9.        ,   8.        ,  22.        ],\n       [  9.        ,   8.        ,  22.        ],\n       [  9.        ,   8.        ,  22.        ],\n       [  9.        ,   8.        ,  22.        ],\n       [  9.        ,   8.        ,  22.        ],\n       [  9.        ,   8.        ,  22.        ],\n       [  9.        ,   8.        ,  22.        ],\n       [  9.        ,   8.        ,  22.        ],\n       [  9.        ,   8.        ,  22.        ],\n       [  9.        ,   8.        ,  22.        ],\n       [  9.        ,   8.        ,  22.        ],\n       [  9.        ,   8.        ,  22.        ],\n       [  9.        ,   8.        ,  22.        ],\n       [  9.        ,   8.        ,  22.        ],\n       [  9.        ,   8.        ,  22.        ],\n       [  9.        ,   8.        ,  22.        ],\n       [  9.        ,   8.        ,  22.        ],\n       [  9.        ,   8.        ,  22.        ],\n       [  9.        ,   8.        ,  22.        ],\n       [  9.        ,   8.        ,  22.        ],\n       [  9.        ,   8.        ,  22.        ],\n       [  9.        ,   8.        ,  22.        ],\n       [  9.        ,   8.        ,  22.        ],\n       [  9.        ,   8.        ,  22.        ],\n       [  9.        ,   8.        ,  22.        ],\n       [  9.        ,   8.        ,  22.        ],\n       [  9.        ,   8.        ,  22.        ],\n       [  9.        ,   8.        ,  22.        ],\n       [  9.        ,   8.        ,  22.        ],\n       [  9.        ,   8.        ,  22.        ]])"
     },
     "execution_count": 51,
     "metadata": {},
     "output_type": "execute_result"
    }
   ],
   "source": [
    "points2"
   ],
   "metadata": {
    "collapsed": false,
    "pycharm": {
     "name": "#%%\n"
    }
   }
  },
  {
   "cell_type": "code",
   "execution_count": 52,
   "outputs": [
    {
     "data": {
      "text/plain": "array([[-20.        , -20.        , -20.        ],\n       [ -2.6       ,  -3.20000001,   5.2       ],\n       [  4.36      ,   3.52      ,  15.28      ],\n       [  7.144     ,   6.208     ,  19.312     ],\n       [  8.2576    ,   7.2832    ,  20.9248    ],\n       [  8.70304   ,   7.71328   ,  21.56992   ],\n       [  8.881216  ,   7.885312  ,  21.827968  ],\n       [  8.9524864 ,   7.9541248 ,  21.9311872 ],\n       [  8.98099456,   7.98164992,  21.97247488],\n       [  8.99239782,   7.99265997,  21.98898995],\n       [  8.99695913,   7.99706399,  21.99559598],\n       [  8.99878365,   7.99882559,  21.99823839],\n       [  8.99951346,   7.99953024,  21.99929536],\n       [  8.99980538,   7.9998121 ,  21.99971814],\n       [  8.99992215,   7.99992484,  21.99988726],\n       [  8.99996886,   7.99996994,  21.9999549 ],\n       [  8.99998754,   7.99998797,  21.99998196],\n       [  8.99999502,   7.99999519,  21.99999278],\n       [  8.99999801,   7.99999808,  21.99999711],\n       [  8.9999992 ,   7.99999923,  21.99999885],\n       [  8.99999968,   7.99999969,  21.99999954],\n       [  8.99999987,   7.99999988,  21.99999982],\n       [  8.99999995,   7.99999995,  21.99999993],\n       [  8.99999998,   7.99999998,  21.99999997],\n       [  8.99999999,   7.99999999,  21.99999999],\n       [  9.        ,   8.        ,  22.        ],\n       [  9.        ,   8.        ,  22.        ],\n       [  9.        ,   8.        ,  22.        ],\n       [  9.        ,   8.        ,  22.        ],\n       [  9.        ,   8.        ,  22.        ],\n       [  9.        ,   8.        ,  22.        ],\n       [  9.        ,   8.        ,  22.        ],\n       [  9.        ,   8.        ,  22.        ],\n       [  9.        ,   8.        ,  22.        ],\n       [  9.        ,   8.        ,  22.        ],\n       [  9.        ,   8.        ,  22.        ],\n       [  9.        ,   8.        ,  22.        ],\n       [  9.        ,   8.        ,  22.        ],\n       [  9.        ,   8.        ,  22.        ],\n       [  9.        ,   8.        ,  22.        ],\n       [  9.        ,   8.        ,  22.        ],\n       [  9.        ,   8.        ,  22.        ],\n       [  9.        ,   8.        ,  22.        ],\n       [  9.        ,   8.        ,  22.        ],\n       [  9.        ,   8.        ,  22.        ],\n       [  9.        ,   8.        ,  22.        ],\n       [  9.        ,   8.        ,  22.        ],\n       [  9.        ,   8.        ,  22.        ],\n       [  9.        ,   8.        ,  22.        ],\n       [  9.        ,   8.        ,  22.        ]])"
     },
     "execution_count": 52,
     "metadata": {},
     "output_type": "execute_result"
    }
   ],
   "source": [
    "points3"
   ],
   "metadata": {
    "collapsed": false,
    "pycharm": {
     "name": "#%%\n"
    }
   }
  },
  {
   "cell_type": "markdown",
   "source": [
    "Задание 2"
   ],
   "metadata": {
    "collapsed": false,
    "pycharm": {
     "name": "#%% md\n"
    }
   }
  },
  {
   "cell_type": "code",
   "execution_count": 53,
   "outputs": [],
   "source": [
    "def get_lr(n, start, k):\n",
    "    return start * np.exp(-k * n)"
   ],
   "metadata": {
    "collapsed": false,
    "pycharm": {
     "name": "#%%\n"
    }
   }
  },
  {
   "cell_type": "code",
   "execution_count": 54,
   "outputs": [],
   "source": [
    "def gb_with_exp_decay(lr):\n",
    "    epoch = 50\n",
    "    x = [-20, -20, -20]\n",
    "\n",
    "    points = np.zeros((epoch, 3))\n",
    "    points[0] = x\n",
    "    for i in range(1, epoch):\n",
    "        x = x - get_lr(i, lr, 0.01) * np.array(grad(x))\n",
    "        points[i] = x\n",
    "    return points"
   ],
   "metadata": {
    "collapsed": false,
    "pycharm": {
     "name": "#%%\n"
    }
   }
  },
  {
   "cell_type": "code",
   "execution_count": 55,
   "outputs": [
    {
     "data": {
      "text/plain": "array([[-20.        , -20.        , -20.        ],\n       [  7.56298737,   6.61253952,  19.9188093 ],\n       [  8.91520293,   7.91812696,  21.87719045],\n       [  8.99420223,   7.99440215,  21.99160323],\n       [  8.99954985,   7.99956537,  21.99934806],\n       [  8.99996092,   7.99996227,  21.9999434 ],\n       [  8.99999625,   7.99999638,  21.99999457],\n       [  8.99999961,   7.99999962,  21.99999943],\n       [  8.99999996,   7.99999996,  21.99999994],\n       [  8.99999999,   7.99999999,  21.99999999],\n       [  9.        ,   8.        ,  22.        ],\n       [  9.        ,   8.        ,  22.        ],\n       [  9.        ,   8.        ,  22.        ],\n       [  9.        ,   8.        ,  22.        ],\n       [  9.        ,   8.        ,  22.        ],\n       [  9.        ,   8.        ,  22.        ],\n       [  9.        ,   8.        ,  22.        ],\n       [  9.        ,   8.        ,  22.        ],\n       [  9.        ,   8.        ,  22.        ],\n       [  9.        ,   8.        ,  22.        ],\n       [  9.        ,   8.        ,  22.        ],\n       [  9.        ,   8.        ,  22.        ],\n       [  9.        ,   8.        ,  22.        ],\n       [  9.        ,   8.        ,  22.        ],\n       [  9.        ,   8.        ,  22.        ],\n       [  9.        ,   8.        ,  22.        ],\n       [  9.        ,   8.        ,  22.        ],\n       [  9.        ,   8.        ,  22.        ],\n       [  9.        ,   8.        ,  22.        ],\n       [  9.        ,   8.        ,  22.        ],\n       [  9.        ,   8.        ,  22.        ],\n       [  9.        ,   8.        ,  22.        ],\n       [  9.        ,   8.        ,  22.        ],\n       [  9.        ,   8.        ,  22.        ],\n       [  9.        ,   8.        ,  22.        ],\n       [  9.        ,   8.        ,  22.        ],\n       [  9.        ,   8.        ,  22.        ],\n       [  9.        ,   8.        ,  22.        ],\n       [  9.        ,   8.        ,  22.        ],\n       [  9.        ,   8.        ,  22.        ],\n       [  9.        ,   8.        ,  22.        ],\n       [  9.        ,   8.        ,  22.        ],\n       [  9.        ,   8.        ,  22.        ],\n       [  9.        ,   8.        ,  22.        ],\n       [  9.        ,   8.        ,  22.        ],\n       [  9.        ,   8.        ,  22.        ],\n       [  9.        ,   8.        ,  22.        ],\n       [  9.        ,   8.        ,  22.        ],\n       [  9.        ,   8.        ,  22.        ],\n       [  9.        ,   8.        ,  22.        ]])"
     },
     "execution_count": 55,
     "metadata": {},
     "output_type": "execute_result"
    }
   ],
   "source": [
    "points1 = gb_with_exp_decay(0.16)\n",
    "points1"
   ],
   "metadata": {
    "collapsed": false,
    "pycharm": {
     "name": "#%%\n"
    }
   }
  },
  {
   "cell_type": "code",
   "execution_count": 56,
   "outputs": [
    {
     "data": {
      "text/plain": "array([[-20.        , -20.        , -20.        ],\n       [ 14.45373421,  13.2656744 ,  29.89851162],\n       [  8.03884257,   7.07198593,  20.60797889],\n       [  9.15814369,   8.15269046,  22.22903569],\n       [  8.97581234,   7.9766464 ,  21.9649696 ],\n       [  9.00342196,   8.00330396,  22.00495594],\n       [  8.99955474,   7.9995701 ,  21.99935515],\n       [  9.00005293,   8.0000511 ,  22.00007666],\n       [  8.9999943 ,   7.99999449,  21.99999174],\n       [  9.00000055,   8.00000053,  22.0000008 ],\n       [  8.99999995,   7.99999995,  21.99999993],\n       [  9.        ,   8.        ,  22.00000001],\n       [  9.        ,   8.        ,  22.        ],\n       [  9.        ,   8.        ,  22.        ],\n       [  9.        ,   8.        ,  22.        ],\n       [  9.        ,   8.        ,  22.        ],\n       [  9.        ,   8.        ,  22.        ],\n       [  9.        ,   8.        ,  22.        ],\n       [  9.        ,   8.        ,  22.        ],\n       [  9.        ,   8.        ,  22.        ],\n       [  9.        ,   8.        ,  22.        ],\n       [  9.        ,   8.        ,  22.        ],\n       [  9.        ,   8.        ,  22.        ],\n       [  9.        ,   8.        ,  22.        ],\n       [  9.        ,   8.        ,  22.        ],\n       [  9.        ,   8.        ,  22.        ],\n       [  9.        ,   8.        ,  22.        ],\n       [  9.        ,   8.        ,  22.        ],\n       [  9.        ,   8.        ,  22.        ],\n       [  9.        ,   8.        ,  22.        ],\n       [  9.        ,   8.        ,  22.        ],\n       [  9.        ,   8.        ,  22.        ],\n       [  9.        ,   8.        ,  22.        ],\n       [  9.        ,   8.        ,  22.        ],\n       [  9.        ,   8.        ,  22.        ],\n       [  9.        ,   8.        ,  22.        ],\n       [  9.        ,   8.        ,  22.        ],\n       [  9.        ,   8.        ,  22.        ],\n       [  9.        ,   8.        ,  22.        ],\n       [  9.        ,   8.        ,  22.        ],\n       [  9.        ,   8.        ,  22.        ],\n       [  9.        ,   8.        ,  22.        ],\n       [  9.        ,   8.        ,  22.        ],\n       [  9.        ,   8.        ,  22.        ],\n       [  9.        ,   8.        ,  22.        ],\n       [  9.        ,   8.        ,  22.        ],\n       [  9.        ,   8.        ,  22.        ],\n       [  9.        ,   8.        ,  22.        ],\n       [  9.        ,   8.        ,  22.        ],\n       [  9.        ,   8.        ,  22.        ]])"
     },
     "execution_count": 56,
     "metadata": {},
     "output_type": "execute_result"
    }
   ],
   "source": [
    "points2 = gb_with_exp_decay(0.2)\n",
    "points2"
   ],
   "metadata": {
    "collapsed": false,
    "pycharm": {
     "name": "#%%\n"
    }
   }
  },
  {
   "cell_type": "code",
   "execution_count": 57,
   "outputs": [
    {
     "data": {
      "text/plain": "array([[-20.        , -20.        , -20.        ],\n       [ -2.7731329 ,  -3.3671628 ,   4.94925581],\n       [  4.15087265,   3.31808394,  14.97712591],\n       [  6.97436104,   6.04421066,  19.06631599],\n       [  8.14208855,   7.1716717 ,  20.75750756],\n       [  8.63173092,   7.64442985,  21.46664478],\n       [  8.83982457,   7.84534787,  21.7680218 ],\n       [  8.92943252,   7.93186588,  21.89779882],\n       [  8.96851772,   7.96960331,  21.95440497],\n       [  8.9857813 ,   7.9862716 ,  21.9794074 ],\n       [  8.99350067,   7.99372478,  21.99058717],\n       [  8.99699406,   7.99709771,  21.99564657],\n       [  8.99859368,   7.99864217,  21.99796326],\n       [  8.99933461,   7.99935755,  21.99903633],\n       [  8.99968169,   7.99969266,  21.99953899],\n       [  8.99984607,   7.99985138,  21.99977707],\n       [  8.99992477,   7.99992737,  21.99989105],\n       [  8.99996285,   7.99996413,  21.9999462 ],\n       [  8.99998147,   7.99998211,  21.99997316],\n       [  8.99999066,   7.99999099,  21.99998648],\n       [  8.99999525,   7.99999541,  21.99999312],\n       [  8.99999756,   7.99999764,  21.99999647],\n       [  8.99999874,   7.99999878,  21.99999817],\n       [  8.99999934,   7.99999936,  21.99999904],\n       [  8.99999965,   7.99999966,  21.99999949],\n       [  8.99999981,   7.99999982,  21.99999973],\n       [  8.9999999 ,   7.9999999 ,  21.99999986],\n       [  8.99999995,   7.99999995,  21.99999992],\n       [  8.99999997,   7.99999997,  21.99999996],\n       [  8.99999998,   7.99999998,  21.99999998],\n       [  8.99999999,   7.99999999,  21.99999999],\n       [  8.99999999,   8.        ,  21.99999999],\n       [  9.        ,   8.        ,  22.        ],\n       [  9.        ,   8.        ,  22.        ],\n       [  9.        ,   8.        ,  22.        ],\n       [  9.        ,   8.        ,  22.        ],\n       [  9.        ,   8.        ,  22.        ],\n       [  9.        ,   8.        ,  22.        ],\n       [  9.        ,   8.        ,  22.        ],\n       [  9.        ,   8.        ,  22.        ],\n       [  9.        ,   8.        ,  22.        ],\n       [  9.        ,   8.        ,  22.        ],\n       [  9.        ,   8.        ,  22.        ],\n       [  9.        ,   8.        ,  22.        ],\n       [  9.        ,   8.        ,  22.        ],\n       [  9.        ,   8.        ,  22.        ],\n       [  9.        ,   8.        ,  22.        ],\n       [  9.        ,   8.        ,  22.        ],\n       [  9.        ,   8.        ,  22.        ],\n       [  9.        ,   8.        ,  22.        ]])"
     },
     "execution_count": 57,
     "metadata": {},
     "output_type": "execute_result"
    }
   ],
   "source": [
    "points3 = gb_with_exp_decay(0.1)\n",
    "points3"
   ],
   "metadata": {
    "collapsed": false,
    "pycharm": {
     "name": "#%%\n"
    }
   }
  },
  {
   "cell_type": "markdown",
   "source": [
    "Задание 3"
   ],
   "metadata": {
    "collapsed": false,
    "pycharm": {
     "name": "#%% md\n"
    }
   }
  },
  {
   "cell_type": "code",
   "execution_count": 58,
   "outputs": [],
   "source": [
    "def u(a, x_k):\n",
    "    return f(x_k - a * np.array(grad(x_k)))"
   ],
   "metadata": {
    "collapsed": false,
    "pycharm": {
     "name": "#%%\n"
    }
   }
  },
  {
   "cell_type": "markdown",
   "source": [
    "Ищем отрезок, на котором есть минимум"
   ],
   "metadata": {
    "collapsed": false,
    "pycharm": {
     "name": "#%% md\n"
    }
   }
  },
  {
   "cell_type": "code",
   "execution_count": 59,
   "outputs": [],
   "source": [
    "def find_seg(x_k):\n",
    "    # p2 - min; p1 - start; p3 - end\n",
    "    a = 0.5\n",
    "    ux_0 = u(0, x_k)\n",
    "    ux_1 = u(a, x_k)\n",
    "    ux_0c = x_k - 0 * np.array(grad(x_k))\n",
    "    ux_1c = x_k - a * np.array(grad(x_k))\n",
    "\n",
    "    p1, p2, p3, = 0, 0, 0\n",
    "    if ux_1 < ux_0:\n",
    "        a = a * 1.5\n",
    "        ux_2 = u(a, x_k)\n",
    "        ux_2c = x_k - a * np.array(grad(x_k))\n",
    "        while ux_1 > ux_2:\n",
    "            ux_1 = ux_2\n",
    "            ux_1c = ux_2c\n",
    "            a *= 1.5\n",
    "            ux_2 = u(a, x_k)\n",
    "            ux_2c = x_k - a * np.array(grad(x_k))\n",
    "        p1 = 0\n",
    "        p2 = ux_1c\n",
    "        p3 = a\n",
    "    elif ux_1 > ux_0:\n",
    "        p1 = 0\n",
    "        p3 = a\n",
    "        # a = a / 1.5\n",
    "        # ux_2 = u(a, x_k)\n",
    "        # ux_2c = x_k - a * np.array(grad(x_k))\n",
    "        # while ux_2 > ux_0:\n",
    "        #     # ux_1 = ux_2\n",
    "        #     # ux_1c = ux_2c\n",
    "        #     a = a / 1.5\n",
    "        #     ux_2 = u(a, x_k)\n",
    "        #     ux_2c = x_k - a * np.array(grad(x_k))\n",
    "        #\n",
    "        # p2 = ux_2c\n",
    "        # p3 = ux_1c\n",
    "\n",
    "    return [p1, p3]"
   ],
   "metadata": {
    "collapsed": false,
    "pycharm": {
     "name": "#%%\n"
    }
   }
  },
  {
   "cell_type": "code",
   "execution_count": 60,
   "outputs": [],
   "source": [
    "def dih(a, b, x_k):\n",
    "    h = 1e-5\n",
    "    for i in range(100):\n",
    "        m = (a + b) / 2\n",
    "        left = u(m - h, x_k)\n",
    "        right = u(m + h, x_k)\n",
    "        if left < right:\n",
    "            b = m + h\n",
    "            # b = x_k - (m+h) * np.array(grad(x_k))\n",
    "        elif left > right:\n",
    "            a = m - h\n",
    "            # a = x_k - (m-h) * np.array(grad(x_k))\n",
    "    return x_k - a * np.array(grad(x_k))"
   ],
   "metadata": {
    "collapsed": false,
    "pycharm": {
     "name": "#%%\n"
    }
   }
  },
  {
   "cell_type": "code",
   "execution_count": 61,
   "outputs": [
    {
     "data": {
      "text/plain": "array([ 9.,  8., 22.])"
     },
     "execution_count": 61,
     "metadata": {},
     "output_type": "execute_result"
    }
   ],
   "source": [
    "x = [-20, -20, -20]\n",
    "for i in range(20):\n",
    "    seg = find_seg(x)\n",
    "    x = dih(seg[0], seg[1], x)\n",
    "x"
   ],
   "metadata": {
    "collapsed": false,
    "pycharm": {
     "name": "#%%\n"
    }
   }
  },
  {
   "cell_type": "code",
   "execution_count": 61,
   "outputs": [],
   "source": [],
   "metadata": {
    "collapsed": false,
    "pycharm": {
     "name": "#%%\n"
    }
   }
  },
  {
   "cell_type": "code",
   "execution_count": 61,
   "outputs": [],
   "source": [],
   "metadata": {
    "collapsed": false,
    "pycharm": {
     "name": "#%%\n"
    }
   }
  }
 ],
 "metadata": {
  "kernelspec": {
   "display_name": "Python 3",
   "language": "python",
   "name": "python3"
  },
  "language_info": {
   "codemirror_mode": {
    "name": "ipython",
    "version": 2
   },
   "file_extension": ".py",
   "mimetype": "text/x-python",
   "name": "python",
   "nbconvert_exporter": "python",
   "pygments_lexer": "ipython2",
   "version": "2.7.6"
  }
 },
 "nbformat": 4,
 "nbformat_minor": 0
}