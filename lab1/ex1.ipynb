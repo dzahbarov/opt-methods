{
 "cells": [
  {
   "cell_type": "markdown",
   "source": [],
   "metadata": {
    "collapsed": false,
    "pycharm": {
     "name": "#%% md\n"
    }
   }
  },
  {
   "cell_type": "markdown",
   "source": [
    "## Задание 1\n",
    "Реализуйте градиентный спуск с постоянный шагом (learning rate). Исследовать сходимость при различных значениях шага"
   ],
   "metadata": {
    "collapsed": false,
    "pycharm": {
     "name": "#%% md\n"
    }
   }
  },
  {
   "cell_type": "code",
   "execution_count": 127,
   "outputs": [],
   "source": [
    "import numpy as np\n",
    "import matplotlib.pyplot as plt\n",
    "\n",
    "plt.rcParams[\"figure.figsize\"] = (20, 10)"
   ],
   "metadata": {
    "collapsed": false,
    "pycharm": {
     "name": "#%%\n"
    }
   }
  },
  {
   "cell_type": "code",
   "execution_count": 128,
   "outputs": [],
   "source": [
    "def f(x):\n",
    "    return 5 * (x[0] - 9) ** 2 + (x[1] - 7) ** 2\n",
    "\n",
    "\n",
    "def partial(i, x):\n",
    "    h = 1e-5\n",
    "    x[i] = x[i] + h\n",
    "    right = f(x)\n",
    "    x[i] = x[i] - 2 * h\n",
    "    left = f(x)\n",
    "    x[i] = x[i] + h\n",
    "    return (right - left) / (2 * h)\n",
    "\n",
    "\n",
    "def grad(x):\n",
    "    return [partial(i, x) for i in range(len(x))]"
   ],
   "metadata": {
    "collapsed": false,
    "pycharm": {
     "name": "#%%\n"
    }
   }
  },
  {
   "cell_type": "code",
   "execution_count": 129,
   "outputs": [],
   "source": [
    "def GB(lr):\n",
    "    epoch = 20\n",
    "    x = [-20, -20]\n",
    "\n",
    "    points = np.zeros((epoch, 2))\n",
    "    points[0] = x\n",
    "    for i in range(1, epoch):\n",
    "        x = x - lr * np.array(grad(x))\n",
    "        points[i] = x\n",
    "    return points"
   ],
   "metadata": {
    "collapsed": false,
    "pycharm": {
     "name": "#%%\n"
    }
   }
  },
  {
   "cell_type": "code",
   "execution_count": 130,
   "outputs": [],
   "source": [
    "points1 = GB(0.16)"
   ],
   "metadata": {
    "collapsed": false,
    "pycharm": {
     "name": "#%%\n"
    }
   }
  },
  {
   "cell_type": "code",
   "execution_count": 131,
   "outputs": [],
   "source": [
    "points2 = GB(0.20)"
   ],
   "metadata": {
    "collapsed": false,
    "pycharm": {
     "name": "#%%\n"
    }
   }
  },
  {
   "cell_type": "code",
   "execution_count": 132,
   "outputs": [],
   "source": [
    "points3 = GB(0.1)"
   ],
   "metadata": {
    "collapsed": false,
    "pycharm": {
     "name": "#%%\n"
    }
   }
  },
  {
   "cell_type": "code",
   "execution_count": 133,
   "outputs": [],
   "source": [
    "points4 = GB(0.05)"
   ],
   "metadata": {
    "collapsed": false,
    "pycharm": {
     "name": "#%%\n"
    }
   }
  },
  {
   "cell_type": "code",
   "execution_count": 136,
   "outputs": [],
   "source": [
    "import sys\n",
    "np.set_printoptions(threshold=np.inf)"
   ],
   "metadata": {
    "collapsed": false,
    "pycharm": {
     "name": "#%%\n"
    }
   }
  },
  {
   "cell_type": "code",
   "execution_count": 137,
   "outputs": [
    {
     "data": {
      "text/plain": "array([[-20.        , -20.        ],\n       [ 26.4       , -11.36      ],\n       [ -1.44      ,  -5.4848    ],\n       [ 15.264     ,  -1.489664  ],\n       [  5.2416    ,   1.22702848],\n       [ 11.25504   ,   3.07437937],\n       [  7.646976  ,   4.33057797],\n       [  9.8118144 ,   5.18479302],\n       [  8.51291136,   5.76565925],\n       [  9.29225318,   6.16064829],\n       [  8.82464809,   6.42924084],\n       [  9.10521115,   6.61188377],\n       [  8.93687331,   6.73608096],\n       [  9.03787601,   6.82053506],\n       [  8.97727439,   6.87796384],\n       [  9.01363536,   6.91701541],\n       [  8.99181878,   6.94357048],\n       [  9.00490873,   6.96162793],\n       [  8.99705476,   6.97390699],\n       [  9.00176714,   6.98225675]])"
     },
     "execution_count": 137,
     "metadata": {},
     "output_type": "execute_result"
    }
   ],
   "source": [
    "points1"
   ],
   "metadata": {
    "collapsed": false,
    "pycharm": {
     "name": "#%%\n"
    }
   }
  },
  {
   "cell_type": "code",
   "execution_count": 138,
   "outputs": [
    {
     "data": {
      "text/plain": "array([[-20.        , -20.        ],\n       [ 38.        ,  -9.2       ],\n       [-19.99999999,  -2.72      ],\n       [ 37.99999999,   1.168     ],\n       [-19.99999998,   3.5008    ],\n       [ 37.99999998,   4.90048   ],\n       [-19.99999998,   5.740288  ],\n       [ 37.99999998,   6.2441728 ],\n       [-19.99999998,   6.54650368],\n       [ 37.99999998,   6.7279022 ],\n       [-19.99999997,   6.83674133],\n       [ 37.99999997,   6.9020448 ],\n       [-19.99999996,   6.94122688],\n       [ 37.99999995,   6.96473613],\n       [-19.99999995,   6.97884168],\n       [ 37.99999994,   6.987305  ],\n       [-19.99999995,   6.992383  ],\n       [ 37.99999994,   6.9954298 ],\n       [-19.99999993,   6.99725788],\n       [ 37.99999993,   6.99835472]])"
     },
     "execution_count": 138,
     "metadata": {},
     "output_type": "execute_result"
    }
   ],
   "source": [
    "points2"
   ],
   "metadata": {
    "collapsed": false,
    "pycharm": {
     "name": "#%%\n"
    }
   }
  },
  {
   "cell_type": "code",
   "execution_count": 139,
   "outputs": [
    {
     "data": {
      "text/plain": "array([[-20.        , -20.        ],\n       [  9.        , -14.6       ],\n       [  9.        , -10.28      ],\n       [  9.        ,  -6.824     ],\n       [  9.        ,  -4.0592    ],\n       [  9.        ,  -1.84736   ],\n       [  9.        ,  -0.077888  ],\n       [  9.        ,   1.3376896 ],\n       [  9.        ,   2.47015168],\n       [  9.        ,   3.37612134],\n       [  9.        ,   4.10089708],\n       [  9.        ,   4.68071766],\n       [  9.        ,   5.14457413],\n       [  9.        ,   5.5156593 ],\n       [  9.        ,   5.81252744],\n       [  9.        ,   6.05002195],\n       [  9.        ,   6.24001756],\n       [  9.        ,   6.39201405],\n       [  9.        ,   6.51361124],\n       [  9.        ,   6.61088899]])"
     },
     "execution_count": 139,
     "metadata": {},
     "output_type": "execute_result"
    }
   ],
   "source": [
    "points3"
   ],
   "metadata": {
    "collapsed": false,
    "pycharm": {
     "name": "#%%\n"
    }
   }
  },
  {
   "cell_type": "code",
   "execution_count": 140,
   "outputs": [
    {
     "data": {
      "text/plain": "array([[-20.        , -20.        ],\n       [ -5.5       , -17.3       ],\n       [  1.75      , -14.87      ],\n       [  5.375     , -12.683     ],\n       [  7.1875    , -10.7147    ],\n       [  8.09375   ,  -8.94323   ],\n       [  8.546875  ,  -7.348907  ],\n       [  8.7734375 ,  -5.9140163 ],\n       [  8.88671875,  -4.62261467],\n       [  8.94335937,  -3.4603532 ],\n       [  8.97167969,  -2.41431788],\n       [  8.98583984,  -1.47288609],\n       [  8.99291992,  -0.62559749],\n       [  8.99645996,   0.13696226],\n       [  8.99822998,   0.82326604],\n       [  8.99911499,   1.44093943],\n       [  8.9995575 ,   1.99684549],\n       [  8.99977875,   2.49716094],\n       [  8.99988937,   2.94744485],\n       [  8.99994469,   3.35270036]])"
     },
     "execution_count": 140,
     "metadata": {},
     "output_type": "execute_result"
    }
   ],
   "source": [
    "points4"
   ],
   "metadata": {
    "collapsed": false,
    "pycharm": {
     "name": "#%%\n"
    }
   }
  },
  {
   "cell_type": "code",
   "execution_count": null,
   "outputs": [],
   "source": [],
   "metadata": {
    "collapsed": false,
    "pycharm": {
     "name": "#%%\n"
    }
   }
  }
 ],
 "metadata": {
  "kernelspec": {
   "display_name": "Python 3",
   "language": "python",
   "name": "python3"
  },
  "language_info": {
   "codemirror_mode": {
    "name": "ipython",
    "version": 2
   },
   "file_extension": ".py",
   "mimetype": "text/x-python",
   "name": "python",
   "nbconvert_exporter": "python",
   "pygments_lexer": "ipython2",
   "version": "2.7.6"
  }
 },
 "nbformat": 4,
 "nbformat_minor": 0
}